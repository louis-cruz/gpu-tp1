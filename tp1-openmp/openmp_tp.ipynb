{
 "cells": [
  {
   "cell_type": "markdown",
   "metadata": {},
   "source": [
    "# TP OpenMP - October 2022\n",
    "## Part 1 : Pi\n",
    "### Compilation"
   ]
  },
  {
   "cell_type": "code",
   "execution_count": 35,
   "metadata": {},
   "outputs": [],
   "source": [
    "!g++ -o tp_openmp_part_1_pi tp_openmp_part_1_pi.cpp -fopenmp -O3 -march=native\n",
    "!g++ -o tp_openmp_part_11_critical tp_openmp_part_11_critical.cpp -fopenmp -O3 -march=native\n",
    "!g++ -o tp_openmp_part_12_atomic tp_openmp_part_12_atomic.cpp -fopenmp -O3 -march=native\n",
    "!g++ -o tp_openmp_part_13_reduction tp_openmp_part_13_reduction.cpp -fopenmp -O3 -march=native\n",
    "!g++ -o tp_openmp_part_14_array tp_openmp_part_14_array.cpp -fopenmp -O3 -march=native"
   ]
  },
  {
   "cell_type": "markdown",
   "metadata": {},
   "source": [
    "### Evaluation des performance en fonction du nombre de steps "
   ]
  },
  {
   "cell_type": "code",
   "execution_count": 18,
   "metadata": {},
   "outputs": [
    {
     "ename": "KeyboardInterrupt",
     "evalue": "",
     "output_type": "error",
     "traceback": [
      "\u001b[0;31m---------------------------------------------------------------------------\u001b[0m",
      "\u001b[0;31mKeyboardInterrupt\u001b[0m                         Traceback (most recent call last)",
      "\u001b[0;32m<ipython-input-18-4d8d4343df2f>\u001b[0m in \u001b[0;36m<module>\u001b[0;34m()\u001b[0m\n\u001b[1;32m     19\u001b[0m         \u001b[0margs\u001b[0m \u001b[0;34m=\u001b[0m \u001b[0;34m(\u001b[0m\u001b[0;34m\"./tp_openmp_part_11_critical\"\u001b[0m\u001b[0;34m,\u001b[0m \u001b[0;34m\"-C\"\u001b[0m\u001b[0;34m,\u001b[0m \u001b[0mstr\u001b[0m\u001b[0;34m(\u001b[0m\u001b[0mncore\u001b[0m\u001b[0;34m)\u001b[0m\u001b[0;34m,\u001b[0m \u001b[0;34m\"-N\"\u001b[0m\u001b[0;34m,\u001b[0m \u001b[0mstr\u001b[0m\u001b[0;34m(\u001b[0m\u001b[0mnsteps\u001b[0m\u001b[0;34m)\u001b[0m\u001b[0;34m)\u001b[0m\u001b[0;34m\u001b[0m\u001b[0;34m\u001b[0m\u001b[0m\n\u001b[1;32m     20\u001b[0m         \u001b[0mpopen\u001b[0m \u001b[0;34m=\u001b[0m \u001b[0msubprocess\u001b[0m\u001b[0;34m.\u001b[0m\u001b[0mPopen\u001b[0m\u001b[0;34m(\u001b[0m\u001b[0margs\u001b[0m\u001b[0;34m,\u001b[0m \u001b[0mstdout\u001b[0m\u001b[0;34m=\u001b[0m\u001b[0msubprocess\u001b[0m\u001b[0;34m.\u001b[0m\u001b[0mPIPE\u001b[0m\u001b[0;34m)\u001b[0m\u001b[0;34m\u001b[0m\u001b[0;34m\u001b[0m\u001b[0m\n\u001b[0;32m---> 21\u001b[0;31m         \u001b[0mpopen\u001b[0m\u001b[0;34m.\u001b[0m\u001b[0mwait\u001b[0m\u001b[0;34m(\u001b[0m\u001b[0;34m)\u001b[0m\u001b[0;34m\u001b[0m\u001b[0;34m\u001b[0m\u001b[0m\n\u001b[0m\u001b[1;32m     22\u001b[0m \u001b[0;34m\u001b[0m\u001b[0m\n\u001b[1;32m     23\u001b[0m         \u001b[0margs\u001b[0m \u001b[0;34m=\u001b[0m \u001b[0;34m(\u001b[0m\u001b[0;34m\"./tp_openmp_part_12_atomic\"\u001b[0m\u001b[0;34m,\u001b[0m \u001b[0;34m\"-C\"\u001b[0m\u001b[0;34m,\u001b[0m \u001b[0mstr\u001b[0m\u001b[0;34m(\u001b[0m\u001b[0mncore\u001b[0m\u001b[0;34m)\u001b[0m\u001b[0;34m,\u001b[0m \u001b[0;34m\"-N\"\u001b[0m\u001b[0;34m,\u001b[0m \u001b[0mstr\u001b[0m\u001b[0;34m(\u001b[0m\u001b[0mnsteps\u001b[0m\u001b[0;34m)\u001b[0m\u001b[0;34m)\u001b[0m\u001b[0;34m\u001b[0m\u001b[0;34m\u001b[0m\u001b[0m\n",
      "\u001b[0;32m/usr/lib/python3.7/subprocess.py\u001b[0m in \u001b[0;36mwait\u001b[0;34m(self, timeout)\u001b[0m\n\u001b[1;32m    988\u001b[0m             \u001b[0mendtime\u001b[0m \u001b[0;34m=\u001b[0m \u001b[0m_time\u001b[0m\u001b[0;34m(\u001b[0m\u001b[0;34m)\u001b[0m \u001b[0;34m+\u001b[0m \u001b[0mtimeout\u001b[0m\u001b[0;34m\u001b[0m\u001b[0;34m\u001b[0m\u001b[0m\n\u001b[1;32m    989\u001b[0m         \u001b[0;32mtry\u001b[0m\u001b[0;34m:\u001b[0m\u001b[0;34m\u001b[0m\u001b[0;34m\u001b[0m\u001b[0m\n\u001b[0;32m--> 990\u001b[0;31m             \u001b[0;32mreturn\u001b[0m \u001b[0mself\u001b[0m\u001b[0;34m.\u001b[0m\u001b[0m_wait\u001b[0m\u001b[0;34m(\u001b[0m\u001b[0mtimeout\u001b[0m\u001b[0;34m=\u001b[0m\u001b[0mtimeout\u001b[0m\u001b[0;34m)\u001b[0m\u001b[0;34m\u001b[0m\u001b[0;34m\u001b[0m\u001b[0m\n\u001b[0m\u001b[1;32m    991\u001b[0m         \u001b[0;32mexcept\u001b[0m \u001b[0mKeyboardInterrupt\u001b[0m\u001b[0;34m:\u001b[0m\u001b[0;34m\u001b[0m\u001b[0;34m\u001b[0m\u001b[0m\n\u001b[1;32m    992\u001b[0m             \u001b[0;31m# https://bugs.python.org/issue25942\u001b[0m\u001b[0;34m\u001b[0m\u001b[0;34m\u001b[0m\u001b[0;34m\u001b[0m\u001b[0m\n",
      "\u001b[0;32m/usr/lib/python3.7/subprocess.py\u001b[0m in \u001b[0;36m_wait\u001b[0;34m(self, timeout)\u001b[0m\n\u001b[1;32m   1622\u001b[0m                         \u001b[0;32mif\u001b[0m \u001b[0mself\u001b[0m\u001b[0;34m.\u001b[0m\u001b[0mreturncode\u001b[0m \u001b[0;32mis\u001b[0m \u001b[0;32mnot\u001b[0m \u001b[0;32mNone\u001b[0m\u001b[0;34m:\u001b[0m\u001b[0;34m\u001b[0m\u001b[0;34m\u001b[0m\u001b[0m\n\u001b[1;32m   1623\u001b[0m                             \u001b[0;32mbreak\u001b[0m  \u001b[0;31m# Another thread waited.\u001b[0m\u001b[0;34m\u001b[0m\u001b[0;34m\u001b[0m\u001b[0m\n\u001b[0;32m-> 1624\u001b[0;31m                         \u001b[0;34m(\u001b[0m\u001b[0mpid\u001b[0m\u001b[0;34m,\u001b[0m \u001b[0msts\u001b[0m\u001b[0;34m)\u001b[0m \u001b[0;34m=\u001b[0m \u001b[0mself\u001b[0m\u001b[0;34m.\u001b[0m\u001b[0m_try_wait\u001b[0m\u001b[0;34m(\u001b[0m\u001b[0;36m0\u001b[0m\u001b[0;34m)\u001b[0m\u001b[0;34m\u001b[0m\u001b[0;34m\u001b[0m\u001b[0m\n\u001b[0m\u001b[1;32m   1625\u001b[0m                         \u001b[0;31m# Check the pid and loop as waitpid has been known to\u001b[0m\u001b[0;34m\u001b[0m\u001b[0;34m\u001b[0m\u001b[0;34m\u001b[0m\u001b[0m\n\u001b[1;32m   1626\u001b[0m                         \u001b[0;31m# return 0 even without WNOHANG in odd situations.\u001b[0m\u001b[0;34m\u001b[0m\u001b[0;34m\u001b[0m\u001b[0;34m\u001b[0m\u001b[0m\n",
      "\u001b[0;32m/usr/lib/python3.7/subprocess.py\u001b[0m in \u001b[0;36m_try_wait\u001b[0;34m(self, wait_flags)\u001b[0m\n\u001b[1;32m   1580\u001b[0m             \u001b[0;34m\"\"\"All callers to this function MUST hold self._waitpid_lock.\"\"\"\u001b[0m\u001b[0;34m\u001b[0m\u001b[0;34m\u001b[0m\u001b[0m\n\u001b[1;32m   1581\u001b[0m             \u001b[0;32mtry\u001b[0m\u001b[0;34m:\u001b[0m\u001b[0;34m\u001b[0m\u001b[0;34m\u001b[0m\u001b[0m\n\u001b[0;32m-> 1582\u001b[0;31m                 \u001b[0;34m(\u001b[0m\u001b[0mpid\u001b[0m\u001b[0;34m,\u001b[0m \u001b[0msts\u001b[0m\u001b[0;34m)\u001b[0m \u001b[0;34m=\u001b[0m \u001b[0mos\u001b[0m\u001b[0;34m.\u001b[0m\u001b[0mwaitpid\u001b[0m\u001b[0;34m(\u001b[0m\u001b[0mself\u001b[0m\u001b[0;34m.\u001b[0m\u001b[0mpid\u001b[0m\u001b[0;34m,\u001b[0m \u001b[0mwait_flags\u001b[0m\u001b[0;34m)\u001b[0m\u001b[0;34m\u001b[0m\u001b[0;34m\u001b[0m\u001b[0m\n\u001b[0m\u001b[1;32m   1583\u001b[0m             \u001b[0;32mexcept\u001b[0m \u001b[0mChildProcessError\u001b[0m\u001b[0;34m:\u001b[0m\u001b[0;34m\u001b[0m\u001b[0;34m\u001b[0m\u001b[0m\n\u001b[1;32m   1584\u001b[0m                 \u001b[0;31m# This happens if SIGCLD is set to be ignored or waiting\u001b[0m\u001b[0;34m\u001b[0m\u001b[0;34m\u001b[0m\u001b[0;34m\u001b[0m\u001b[0m\n",
      "\u001b[0;31mKeyboardInterrupt\u001b[0m: "
     ]
    }
   ],
   "source": [
    "import os\n",
    "import subprocess\n",
    "\n",
    "try:\n",
    "    os.remove(\"stats_pi.csv\")\n",
    "except OSError:\n",
    "    pass\n",
    "\n",
    "num_steps = [1000000, 100000000, 10000000000]#, 1000000000000]\n",
    "nb_core = [1, 2, 4, 8]\n",
    "repeats = range(0,10)\n",
    "\n",
    "for nsteps in num_steps:\n",
    "    for ncore in nb_core:\n",
    "        args = (\"./tp_openmp_part_1_pi\", \"-C\", str(ncore), \"-N\", str(nsteps))\n",
    "        popen = subprocess.Popen(args, stdout=subprocess.PIPE)\n",
    "        popen.wait()\n",
    "\n",
    "        args = (\"./tp_openmp_part_11_critical\", \"-C\", str(ncore), \"-N\", str(nsteps))\n",
    "        popen = subprocess.Popen(args, stdout=subprocess.PIPE)\n",
    "        popen.wait()\n",
    "\n",
    "        args = (\"./tp_openmp_part_12_atomic\", \"-C\", str(ncore), \"-N\", str(nsteps))\n",
    "        popen = subprocess.Popen(args, stdout=subprocess.PIPE)\n",
    "        popen.wait()\n",
    "\n",
    "        args = (\"./tp_openmp_part_13_reduction\", \"-C\", str(ncore), \"-N\", str(nsteps))\n",
    "        popen = subprocess.Popen(args, stdout=subprocess.PIPE)\n",
    "        popen.wait()\n",
    "\n",
    "        args = (\"./tp_openmp_part_14_array\", \"-C\", str(ncore), \"-N\", str(nsteps))\n",
    "        popen = subprocess.Popen(args, stdout=subprocess.PIPE)\n",
    "        popen.wait()\n",
    "\n",
    "\n",
    "\n",
    "            "
   ]
  },
  {
   "cell_type": "markdown",
   "metadata": {},
   "source": [
    "### Affichage graphique des performances"
   ]
  },
  {
   "cell_type": "code",
   "execution_count": 17,
   "metadata": {},
   "outputs": [
    {
     "data": {
      "image/png": "[encoded data removed]",
      "text/plain": [
       "<Figure size 432x288 with 1 Axes>"
      ]
     },
     "metadata": {
      "needs_background": "light"
     },
     "output_type": "display_data"
    }
   ],
   "source": [
    "import matplotlib.pyplot as plt\n",
    "import numpy as np\n",
    "from numpy import genfromtxt\n",
    "\n",
    "import pandas as pd\n",
    "\n",
    "import warnings\n",
    "warnings.filterwarnings('ignore')\n",
    "\n",
    "df = pd.read_csv('stats_pi.csv',header=None,names=['version','nbcore','num_steps','runtime'],dtype={\n",
    "                     'version': str,\n",
    "                     'nbcore': int,\n",
    "                     'num_steps' : int,\n",
    "                     'runtime' : float\n",
    "                 })\n",
    "\n",
    "color_num_steps = {1000000 : \"blue\", 100000000 : \"red\", 10000000000 : \"green\", 1000000000000 : \"black\"}\n",
    "\n",
    "for num_steps in df['num_steps']:\n",
    "\n",
    "   df_plot = df[(df['num_steps'] == int(num_steps))]\n",
    "   df_plot = df_plot[df_plot['version'] == \"atomic\"]\n",
    "    \n",
    "   mean_stats = df_plot.groupby(['num_steps','version','nbcore']).mean().reset_index()\n",
    "    \n",
    "   plt.plot(mean_stats['nbcore'], mean_stats['runtime'],linestyle=\"solid\",color=color_num_steps[num_steps])\n",
    " #   plt.yscale('log')\n",
    " #   plt.xscale('log')\n",
    "   plt.scatter(df_plot['nbcore'], df_plot['runtime'],color=color_num_steps[num_steps])\n",
    "\n",
    "    \n",
    "    df_plot = df[(df['num_steps'] == num_steps) & (df['version'] == \"reduce\")]\n",
    "    mean_stats = df_plot.groupby(['num_steps','version','nbcore']).mean().reset_index()\n",
    "    \n",
    "    plt.plot(mean_stats['nbcore'], mean_stats['runtime'],linestyle=\"dashed\",color=color_num_steps[num_steps])\n",
    "    plt.yscale('log')\n",
    " #   plt.xscale('log')\n",
    "    plt.scatter(df_plot['nbcore'], df_plot['runtime'],color=color_num_steps[num_steps])\n",
    "\n",
    "    df_plot = df[(df['num_steps'] == num_steps) & (df['version'] == \"critical\")]\n",
    "    mean_stats = df_plot.groupby(['num_steps','version','nbcore']).mean().reset_index()\n",
    "    \n",
    "    plt.plot(mean_stats['nbcore'], mean_stats['runtime'],linestyle=\"dotted\",color=color_num_steps[num_steps])\n",
    "    plt.yscale('log')\n",
    " #   plt.xscale('log')\n",
    "    plt.scatter(df_plot['nbcore'], df_plot['runtime'],color=color_num_steps[num_steps])\n",
    "\n",
    "    df_plot = df[(df['num_steps'] == num_steps) & (df['version'] == \"array\")]\n",
    "    mean_stats = df_plot.groupby(['num_steps','version','nbcore']).mean().reset_index()\n",
    "    \n",
    "    plt.plot(mean_stats['nbcore'], mean_stats['runtime'],linestyle=\"dashdot\",color=color_num_steps[num_steps])\n",
    "    plt.yscale('log')\n",
    " #   plt.xscale('log')\n",
    "    plt.scatter(df_plot['nbcore'], df_plot['runtime'],color=color_num_steps[num_steps])\n",
    "    \n",
    "\n",
    "\n",
    "   \n",
    "plt.show()"
   ]
  },
  {
   "cell_type": "code",
   "execution_count": null,
   "metadata": {},
   "outputs": [],
   "source": [
    "\n",
    "\n",
    "    plt.legend()"
   ]
  },
  {
   "cell_type": "markdown",
   "metadata": {},
   "source": [
    "### Conclusion\n",
    "\n",
    "....."
   ]
  },
  {
   "cell_type": "markdown",
   "metadata": {},
   "source": [
    "## Part 2 : Matrix-Vector operation\n",
    "\n",
    "### Compilation"
   ]
  },
  {
   "cell_type": "code",
   "execution_count": null,
   "metadata": {},
   "outputs": [],
   "source": [
    "!g++ -o tp_openmp_part_2_vector tp_openmp_part_2_vector.cpp -fopenmp -O3 -march=native\n",
    "!g++ -o tp_openmp_part_25_pragma tp_openmp_part_25_pragma.cpp -fopenmp -O3 -march=native\n",
    "!g++ -o tp_openmp_part_29_SIMD tp_openmp_part_29_SIMD.cpp -fopenmp -O3 -march=native"
   ]
  },
  {
   "cell_type": "markdown",
   "metadata": {},
   "source": [
    "### Evaluation des performences\n",
    "\n",
    "avec :\n",
    "* N : 2, 4, 8, 10, 12, 14, 16\n",
    "* M : 1, 3, 7, 9, 11, 13, 15"
   ]
  },
  {
   "cell_type": "code",
   "execution_count": null,
   "metadata": {},
   "outputs": [],
   "source": [
    "import os\n",
    "import subprocess\n",
    "\n",
    "try:\n",
    "    os.remove(\"stats_vector.csv\")\n",
    "except OSError:\n",
    "    pass\n",
    "\n",
    "array_N = [2, 4, 8, 10, 12, 14, 16]\n",
    "array_M = [1, 3, 7, 9, 11, 13, 15]\n",
    "ncore = 4\n",
    "\n",
    "for N in array_N:\n",
    "    for M in array_M:\n",
    "        args = (\"./tp_openmp_part_21_sequential {N} {M}\", \"-C\", str(ncore))\n",
    "        popen = subprocess.Popen(args, stdout=subprocess.PIPE)\n",
    "        popen.wait()\n",
    "\n",
    "        args = (\"./tp_openmp_part_25_pragma {N} {M}\", \"-C\", str(ncore))\n",
    "        popen = subprocess.Popen(args, stdout=subprocess.PIPE)\n",
    "        popen.wait()\n",
    "\n",
    "        args = (\"./tp_openmp_part_21_SIMD {N} {M}\", \"-C\", str(ncore))\n",
    "        popen = subprocess.Popen(args, stdout=subprocess.PIPE)\n",
    "        popen.wait()\n",
    "        \n"
   ]
  },
  {
   "cell_type": "markdown",
   "metadata": {},
   "source": [
    "### Conculsion\n",
    "\n",
    "* Sequential\n",
    "\n",
    "* Pragma\n",
    "\n",
    "* SIMD Pragma"
   ]
  },
  {
   "cell_type": "markdown",
   "metadata": {},
   "source": [
    "### Performance evaluation"
   ]
  },
  {
   "cell_type": "code",
   "execution_count": null,
   "metadata": {},
   "outputs": [],
   "source": [
    "import os\n",
    "import subprocess\n",
    "\n",
    "try:\n",
    "    os.remove(\"stats.csv\")\n",
    "except OSError:\n",
    "    pass\n",
    "\n",
    "num_steps = [1000000, 100000000, 10000000000]#, 1000000000000]\n",
    "nb_core = [1, 2, 4, 8]\n",
    "repeats = range(0,10)\n",
    "\n",
    "for nsteps in num_steps:\n",
    "    for ncore in nb_core:\n",
    "        for repeat in repeats:\n",
    "            args = (\"./tp_openmp_part_1_pi_impl_reduce\", \"-C\", str(ncore), \"-N\", str(nsteps))\n",
    "            popen = subprocess.Popen(args, stdout=subprocess.PIPE)\n",
    "            popen.wait()\n",
    "\n",
    "            args = (\"./tp_openmp_part_1_pi_impl_atomic\", \"-C\", str(ncore), \"-N\", str(nsteps))\n",
    "            popen = subprocess.Popen(args, stdout=subprocess.PIPE)\n",
    "            popen.wait()\n",
    "\n"
   ]
  },
  {
   "cell_type": "markdown",
   "metadata": {},
   "source": [
    "### Performance analysis\n",
    "#### Weak scaling"
   ]
  },
  {
   "cell_type": "code",
   "execution_count": 35,
   "metadata": {},
   "outputs": [
    {
     "name": "stderr",
     "output_type": "stream",
     "text": [
      "No handles with labels found to put in legend.\n"
     ]
    },
    {
     "data": {
      "image/png": "[encoded data removed]",
      "text/plain": [
       "<Figure size 432x288 with 1 Axes>"
      ]
     },
     "metadata": {
      "needs_background": "light"
     },
     "output_type": "display_data"
    }
   ],
   "source": [
    "import matplotlib.pyplot as plt\n",
    "import numpy as np\n",
    "from numpy import genfromtxt\n",
    "\n",
    "import pandas as pd\n",
    "\n",
    "import warnings\n",
    "warnings.filterwarnings('ignore')\n",
    "\n",
    "df = pd.read_csv('stats.csv',header=None,names=['version','nbcore','num_steps','runtime'],dtype={\n",
    "                     'version': str,\n",
    "                     'nbcore': int,\n",
    "                     'num_steps' : int,\n",
    "                     'runtime' : float\n",
    "                 })\n",
    "\n",
    "color_num_steps = {1000000 : \"blue\", 100000000 : \"red\", 10000000000 : \"green\", 1000000000000 : \"black\"}\n",
    "\n",
    "for num_steps in df['num_steps']:\n",
    "    df_plot = df[(df['num_steps'] == int(num_steps))]\n",
    "    df_plot = df_plot[df_plot['version'] == \"atomic\"]\n",
    "    \n",
    "    mean_stats = df_plot.groupby(['num_steps','version','nbcore']).mean().reset_index()\n",
    "    \n",
    "    plt.plot(mean_stats['nbcore'], mean_stats['runtime'],linestyle=\"solid\",color=color_num_steps[num_steps])\n",
    "    plt.yscale('log')\n",
    "    plt.xscale('log')\n",
    "    plt.scatter(df_plot['nbcore'], df_plot['runtime'],color=color_num_steps[num_steps])\n",
    "\n",
    "    df_plot = df[(df['num_steps'] == num_steps) & (df['version'] == \"reduce\")]\n",
    "    mean_stats = df_plot.groupby(['num_steps','version','nbcore']).mean().reset_index()\n",
    "    \n",
    "    plt.plot(mean_stats['nbcore'], mean_stats['runtime'],linestyle=\"dashed\",color=color_num_steps[num_steps])\n",
    "    plt.yscale('log')\n",
    "    plt.xscale('log')\n",
    "    plt.scatter(df_plot['nbcore'], df_plot['runtime'],color=color_num_steps[num_steps])\n",
    "    \n",
    "plt.legend()\n",
    "plt.show()"
   ]
  },
  {
   "cell_type": "markdown",
   "metadata": {},
   "source": [
    "#### Strong Scaling"
   ]
  },
  {
   "cell_type": "code",
   "execution_count": null,
   "metadata": {},
   "outputs": [],
   "source": []
  },
  {
   "cell_type": "markdown",
   "metadata": {},
   "source": [
    "### Discussion"
   ]
  }
 ],
 "metadata": {
  "kernelspec": {
   "display_name": "Python 3.8.10 64-bit",
   "language": "python",
   "name": "python3"
  },
  "language_info": {
   "codemirror_mode": {
    "name": "ipython",
    "version": 3
   },
   "file_extension": ".py",
   "mimetype": "text/x-python",
   "name": "python",
   "nbconvert_exporter": "python",
   "pygments_lexer": "ipython3",
   "version": "3.7.3"
  },
  "orig_nbformat": 4,
  "vscode": {
   "interpreter": {
    "hash": "31f2aee4e71d21fbe5cf8b01ff0e069b9275f58929596ceb00d14d90e3e16cd6"
   }
  }
 },
 "nbformat": 4,
 "nbformat_minor": 2
}
