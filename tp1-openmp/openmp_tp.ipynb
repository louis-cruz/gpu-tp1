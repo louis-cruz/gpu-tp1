{
 "cells": [
  {
   "cell_type": "markdown",
   "metadata": {},
   "source": [
    "# TP OpenMP - October 2022\n",
    "## Part 1 : Pi\n",
    "### Compilation\n",
    "\n",
    "Louis Crouz\n",
    "Thomas Di Bianca\n",
    "\n",
    "Nos conclusions sont en partie basée sur les courbes de Cyril GOmes et Benoit Algourdin, l'exécution des tests mettant plus de 30 minutes pour la moitié des calculs en connexion à distance pour la partie 1"
   ]
  },
  {
   "cell_type": "code",
   "execution_count": null,
   "metadata": {},
   "outputs": [],
   "source": [
    "!g++ -o tp_openmp_part_11_critical tp_openmp_part_11_critical.cpp -fopenmp -O3 -march=native\n",
    "!g++ -o tp_openmp_part_12_atomic tp_openmp_part_12_atomic.cpp -fopenmp -O3 -march=native\n",
    "!g++ -o tp_openmp_part_13_reduction tp_openmp_part_13_reduction.cpp -fopenmp -O3 -march=native\n",
    "!g++ -o tp_openmp_part_14_array tp_openmp_part_14_array.cpp -fopenmp -O3 -march=native"
   ]
  },
  {
   "cell_type": "markdown",
   "metadata": {},
   "source": [
    "### Evaluation des performance en fonction du nombre de steps "
   ]
  },
  {
   "cell_type": "code",
   "execution_count": null,
   "metadata": {},
   "outputs": [],
   "source": [
    "import os\n",
    "import subprocess\n",
    "\n",
    "try:\n",
    "    os.remove(\"stats_pi.csv\")\n",
    "except OSError:\n",
    "    pass\n",
    "\n",
    "num_steps = [1000000, 100000000, 10000000000]#, 1000000000000]\n",
    "nb_core = [1, 2, 4, 8]\n",
    "repeats = range(0,10)\n",
    "\n",
    "for nrepeats in repeats:\n",
    "    for nsteps in num_steps:\n",
    "        for ncore in nb_core:\n",
    "\n",
    "            args = (\"./tp_openmp_part_11_critical\", \"-C\", str(ncore), \"-N\", str(nsteps))\n",
    "            popen = subprocess.Popen(args, stdout=subprocess.PIPE)\n",
    "            popen.wait()\n",
    "\n",
    "            args = (\"./tp_openmp_part_12_atomic\", \"-C\", str(ncore), \"-N\", str(nsteps))\n",
    "            popen = subprocess.Popen(args, stdout=subprocess.PIPE)\n",
    "            popen.wait()\n",
    "\n",
    "            args = (\"./tp_openmp_part_13_reduction\", \"-C\", str(ncore), \"-N\", str(nsteps))\n",
    "            popen = subprocess.Popen(args, stdout=subprocess.PIPE)\n",
    "            popen.wait()\n",
    "\n",
    "            args = (\"./tp_openmp_part_14_array\", \"-C\", str(ncore), \"-N\", str(nsteps))\n",
    "            popen = subprocess.Popen(args, stdout=subprocess.PIPE)\n",
    "            popen.wait()\n",
    "\n",
    "\n",
    "\n",
    "            "
   ]
  },
  {
   "cell_type": "markdown",
   "metadata": {},
   "source": [
    "### Affichage graphique des performances"
   ]
  },
  {
   "cell_type": "code",
   "execution_count": null,
   "metadata": {},
   "outputs": [],
   "source": [
    "import matplotlib.pyplot as plt\n",
    "import numpy as np\n",
    "from numpy import genfromtxt\n",
    "\n",
    "import pandas as pd\n",
    "\n",
    "import warnings\n",
    "warnings.filterwarnings('ignore')\n",
    "\n",
    "df = pd.read_csv('result_log.csv',header=None,names=['version','nbcore','num_steps','runtime'],dtype={\n",
    "                     'version': str,\n",
    "                     'nbcore': int,\n",
    "                     'num_steps' : int,\n",
    "                     'runtime' : float\n",
    "                 })\n",
    "\n",
    "color_num_steps = {1000000 : \"blue\", 100000000 : \"red\", 10000000000 : \"green\", 1000000000000 : \"black\"}\n",
    "\n",
    "for num_steps in df['num_steps']:\n",
    "\n",
    "   df_plot = df[(df['num_steps'] == int(num_steps))]\n",
    "   df_plot = df_plot[df_plot['version'] == \"atomic\"]\n",
    "    \n",
    "   mean_stats = df_plot.groupby(['num_steps','version','nbcore']).mean().reset_index()\n",
    "    \n",
    "   plt.plot(mean_stats['nbcore'], mean_stats['runtime'],linestyle=\"solid\",color=color_num_steps[num_steps])\n",
    "   plt.yscale('log')\n",
    "   plt.scatter(df_plot['nbcore'], df_plot['runtime'],color=color_num_steps[num_steps])\n",
    "    \n",
    "   df_plot = df[(df['num_steps'] == num_steps) & (df['version'] == \"reduce\")]\n",
    "   mean_stats = df_plot.groupby(['num_steps','version','nbcore']).mean().reset_index()\n",
    "    \n",
    "   plt.plot(mean_stats['nbcore'], mean_stats['runtime'],linestyle=\"dashed\",color=color_num_steps[num_steps])\n",
    "   plt.yscale('log')\n",
    "   plt.scatter(df_plot['nbcore'], df_plot['runtime'],color=color_num_steps[num_steps])\n",
    "\n",
    "   df_plot = df[(df['num_steps'] == num_steps) & (df['version'] == \"critical\")]\n",
    "   mean_stats = df_plot.groupby(['num_steps','version','nbcore']).mean().reset_index()\n",
    "    \n",
    "   plt.plot(mean_stats['nbcore'], mean_stats['runtime'],linestyle=\"dotted\",color=color_num_steps[num_steps])\n",
    "   plt.yscale('log')\n",
    "   plt.scatter(df_plot['nbcore'], df_plot['runtime'],color=color_num_steps[num_steps])\n",
    "\n",
    "   df_plot = df[(df['num_steps'] == num_steps) & (df['version'] == \"array\")]\n",
    "   mean_stats = df_plot.groupby(['num_steps','version','nbcore ']).mean().reset_index()\n",
    "    \n",
    "   plt.plot(mean_stats['nbcore'], mean_stats['runtime'],linestyle=\"dashdot\",color=color_num_steps[num_steps])\n",
    "   plt.yscale('log')\n",
    "   plt.x\n",
    "   plt.scatter(df_plot['nbcore'], df_plot['runtime'],color=color_num_steps[num_steps])\n",
    "\n",
    "plt.xlabel('nombre thread')\n",
    "plt.ylabel('runtime')\n",
    "plt.show()"
   ]
  },
  {
   "cell_type": "markdown",
   "metadata": {},
   "source": [
    "### Conclusion\n",
    "\n",
    "On remarque que les deux implémentations avec des reductions sont beaucoup plus performantes que celles de critical et atomic. On peut noter que l'augmentation du nombre de thread à part leur nature un impact négatif sur leur performance.\n",
    "\n",
    "On peut également voir sur les courbes que l'implémentation reduce est plus performante que celle avec plusieurs réductions ( ici appelé array) pour un nombre de coeurs faible ceci est en partie due au atomic qui est couteux en performances.\n",
    "Cependant plus le nombre de coeurs augmente plus array devient performante le coût d atomic étant compensait par la rapidité de calcul."
   ]
  },
  {
   "cell_type": "markdown",
   "metadata": {},
   "source": [
    "## Part 2 : Matrix-Vector operation\n",
    "\n",
    "### Compilation"
   ]
  },
  {
   "cell_type": "code",
   "execution_count": null,
   "metadata": {},
   "outputs": [],
   "source": [
    "!g++ -o tp_openmp_part_21_sequential tp_openmp_part_21_sequential.cpp -fopenmp -O3 -march=native\n",
    "!g++ -o tp_openmp_part_25_pragma tp_openmp_part_25_pragma.cpp -fopenmp -O3 -march=native\n",
    "!g++ -o tp_openmp_part_29_SIMD tp_openmp_part_29_SIMD.cpp -fopenmp -O3 -march=native"
   ]
  },
  {
   "cell_type": "markdown",
   "metadata": {},
   "source": [
    "### Evaluation des performences\n",
    "\n",
    "avec :\n",
    "* N : 2, 4, 8, 10, 12, 14, 16\n",
    "* M : 1, 3, 7, 9, 11, 13, 15"
   ]
  },
  {
   "cell_type": "code",
   "execution_count": 24,
   "metadata": {},
   "outputs": [],
   "source": [
    "import os\n",
    "import subprocess\n",
    "\n",
    "try:\n",
    "    os.remove(\"stats_vector.csv\")\n",
    "except OSError:\n",
    "    pass\n",
    "\n",
    "array_N = [2, 4, 8, 10, 12, 14, 16]\n",
    "array_M = [1, 3, 7, 9, 11, 13, 15]\n",
    "nbcore =[1, 2, 4, 8] \n",
    "\n",
    "for N in array_N:\n",
    "    M = N-1\n",
    "    for ncore in nbcore:\n",
    "\n",
    "        args = (\"./tp_openmp_part_21_sequential\", \"-N\", str(N), \"-M\", str(N), \"-C\", str(ncore))\n",
    "        popen = subprocess.Popen(args, stdout=subprocess.PIPE)\n",
    "        popen.wait()\n",
    "\n",
    "        args = (\"./tp_openmp_part_25_pragma\", \"-N\", str(N), \"-M\", str(N), \"-C\", str(ncore))\n",
    "        popen = subprocess.Popen(args, stdout=subprocess.PIPE)\n",
    "        popen.wait()\n",
    "\n",
    "        args = (\"./tp_openmp_part_29_SIMD\", \"-N\", str(N), \"-M\", str(N), \"-C\", str(ncore))\n",
    "        popen = subprocess.Popen(args, stdout=subprocess.PIPE)\n",
    "        popen.wait()"
   ]
  },
  {
   "cell_type": "markdown",
   "metadata": {},
   "source": [
    "### Affichage graphique des performances"
   ]
  },
  {
   "cell_type": "code",
   "execution_count": 30,
   "metadata": {},
   "outputs": [
    {
     "data": {
      "image/png": "[encoded data removed]",
      "text/plain": [
       "<Figure size 432x288 with 1 Axes>"
      ]
     },
     "metadata": {
      "needs_background": "light"
     },
     "output_type": "display_data"
    }
   ],
   "source": [
    "import matplotlib.pyplot as plt\n",
    "import numpy as np\n",
    "from numpy import genfromtxt\n",
    "\n",
    "import pandas as pd\n",
    "\n",
    "import warnings\n",
    "warnings.filterwarnings('ignore')\n",
    "\n",
    "df = pd.read_csv('stats_vector.csv',header=None,names=['version','nbcore', 'N','M','nrepeat', 'runtime'],dtype={\n",
    "                     'version': str,\n",
    "                     \"nbcore\": int\n",
    "                     'N': float,\n",
    "                     'M' : float,\n",
    "                     'nrepeat' : float,\n",
    "                     'runtime' : float\n",
    "                 })\n",
    "\n",
    "color_N = {2**2 : \"blue\", 2**4 : \"red\", 2**8 : \"green\", 2**10 : \"black\", 2**12 : \"purple\", 2**14 :\"pink\", 2**16:\"orange\"}\n",
    "\n",
    "for N in df['N']:\n",
    "    df_plot = df[(df['N'] == float(N))]\n",
    "    df_plot = df_plot[df_plot['version'] == \"sequential\"]\n",
    "    \n",
    "    mean_stats = df_plot.groupby(['N','version','nbcore']).mean().reset_index()\n",
    "    \n",
    "    plt.plot(mean_stats['N'], mean_stats['runtime'],linestyle=\"solid\",color=color_N[N])\n",
    "    plt.yscale('log')\n",
    "    plt.scatter(df_plot['nbcore'], df_plot['runtime'],color=color_N[N])\n",
    "\n",
    "    df_plot = df[(df['N'] == N) & (df['version'] == \"pragma\")]\n",
    "    mean_stats = df_plot.groupby(['N','version','nbcore']).mean().reset_index()\n",
    "    \n",
    "    plt.plot(mean_stats['nbcore'], mean_stats['runtime'],linestyle=\"dashed\",color=color_N[N])\n",
    "    plt.yscale('log')\n",
    "    plt.scatter(df_plot['nbcore'], df_plot['runtime'],color=color_N[N])\n",
    "\n",
    "    df_plot = df[(df['N'] == N) & (df['version'] == \"SIMD\")]\n",
    "    mean_stats = df_plot.groupby(['N','version','nbcore']).mean().reset_index()\n",
    "    \n",
    "    plt.plot(mean_stats['nbcore'], mean_stats['runtime'],linestyle=\"dotted\",color=color_N[N])\n",
    "    plt.yscale('log')\n",
    "    plt.scatter(df_plot['nbcore'], df_plot['runtime'],color=color_N[N])\n",
    "    \n",
    "plt.xlabel('nombre thread')\n",
    "plt.ylabel('runtime')\n",
    "plt.show()"
   ]
  },
  {
   "cell_type": "markdown",
   "metadata": {},
   "source": [
    "### Conculsion\n",
    "\n",
    "On remarque que l'implémentation séquentiel est la plus rapide peu importe le nombre de coeurs lorsque N est petit et cependant lorsque N augmente l'implémentation séquentiel devient beaucoup moins performante au profit des implémentations avec réduction. L'implémentation avec réduction devient plus performante lorsque le nombre de thread augmente cependant pour un grand N la différence entre pragma et simd est négligeable"
   ]
  }
 ],
 "metadata": {
  "kernelspec": {
   "display_name": "Python 3.8.10 64-bit",
   "language": "python",
   "name": "python3"
  },
  "language_info": {
   "codemirror_mode": {
    "name": "ipython",
    "version": 3
   },
   "file_extension": ".py",
   "mimetype": "text/x-python",
   "name": "python",
   "nbconvert_exporter": "python",
   "pygments_lexer": "ipython3",
   "version": "3.7.3"
  },
  "orig_nbformat": 4,
  "vscode": {
   "interpreter": {
    "hash": "31f2aee4e71d21fbe5cf8b01ff0e069b9275f58929596ceb00d14d90e3e16cd6"
   }
  }
 },
 "nbformat": 4,
 "nbformat_minor": 2
}
